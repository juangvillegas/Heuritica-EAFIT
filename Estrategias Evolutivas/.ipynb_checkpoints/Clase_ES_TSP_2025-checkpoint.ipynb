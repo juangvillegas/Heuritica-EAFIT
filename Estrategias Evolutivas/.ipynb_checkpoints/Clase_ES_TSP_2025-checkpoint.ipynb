{
  "nbformat": 4,
  "nbformat_minor": 0,
  "metadata": {
    "colab": {
      "private_outputs": true,
      "provenance": []
    },
    "kernelspec": {
      "name": "python3",
      "display_name": "Python 3"
    },
    "language_info": {
      "name": "python"
    }
  },
  "cells": [
    {
      "cell_type": "markdown",
      "source": [
        "# <font color='056938'> **Load modules** </font>\n",
        "\n",
        "We will load into this notebook some modules with functions that will help you in the development of heuristics and metaheuristics for the solution of travelling salesman problemas\n",
        "\n",
        "The module `random_generators.py` include the functions to deal with generating random numbers. The ultimate function of this module is to generate a random permutation (solution) of the tsp problem\n",
        "* Random tour generation: `rand_permutation`\n",
        "\n",
        "The module `tsp_tools` provides different functions to help from the data reading to the solution ploting\n",
        "* Data reading: `read_data(filepath)`\n",
        "> `filepath`: the route to the file with the instance's data\n",
        "* Distance calculation: `calculate_distances`\n",
        "* Data display: `print_TSPdata()\n",
        "* Solution evaluation: `tsp_distance`\n",
        "* Tour display: `plot_tsp_route()`\n",
        "* Plot the search trayectory `plot_trace(trace)`"
      ],
      "metadata": {
        "id": "Ki9gDBcbP6ge"
      }
    },
    {
      "cell_type": "code",
      "source": [
        "#!gdown 1Z81jdqyAq3kX9xbZWGgOwV2UHpGDbUbq\n",
        "#!gdown 1xnT-vDHdSbXVAp-exyAFR8rxVSD_moIa\n",
        "\n",
        "!gdown 1j1Avxvqmjvd-0b6MaPeqxJdGdyTyzw7T\n",
        "!gdown 1OVVQ4MGSkXNuHJjnU8uh57Ry0MYNNeqO\n",
        "\n",
        "import random_generators as ran_gen\n",
        "import tsp_tools as tools"
      ],
      "metadata": {
        "id": "ctiIdOugP1gK"
      },
      "execution_count": null,
      "outputs": []
    },
    {
      "cell_type": "markdown",
      "source": [
        "# <font color='056938'> **Instance generation** </font>"
      ],
      "metadata": {
        "id": "CJ4QTSA6EUrE"
      }
    },
    {
      "cell_type": "markdown",
      "source": [
        "## <font color='8EC044'> **Data reading** </font>\n",
        "\n",
        "We will use the clasical test instances stored in  [TSPlib](http://comopt.ifi.uni-heidelberg.de/software/TSPLIB95/), the format of these instances include a heading with the following information:\n",
        "\n",
        ">NAME: berlin52\n",
        "\n",
        ">TYPE: TSP\n",
        "\n",
        ">COMMENT: 52 locations in Berlin (Groetschel)\n",
        "\n",
        ">DIMENSION: 52\n",
        "\n",
        ">EDGE_WEIGHT_TYPE: EUC_2D\n",
        "\n",
        ">NODE_COORD_SECTION\n",
        "\n",
        "Then, n lines with the coordinates of the cities in the following format (cityID, Coordinate X, Coordinate Y):\n",
        "\n",
        "**id cX cY**\n",
        "\n",
        "Knowing this structure we are going to read three files\n",
        "\n",
        "* `prueba10.tsp`\n",
        "* `berlin52.tsp`\n",
        "* `a280.tsp`\n",
        "\n",
        "\n"
      ],
      "metadata": {
        "id": "Mo8VUu-DEeTM"
      }
    },
    {
      "cell_type": "markdown",
      "source": [
        "First we load the datafile to the colab environment"
      ],
      "metadata": {
        "id": "9MMcsprhFC-u"
      }
    },
    {
      "cell_type": "code",
      "source": [
        "!gdown 1TTIWEI0YbLjrkag4SK-5AsDNMAQDaovv\n",
        "!gdown 1zyokqoAja0Hs7s2QgJHnoE6ndqTae059\n",
        "!gdown 1p1soQ1Rttb-9bd_Yz_DSzlP2PWfeUUM2"
      ],
      "metadata": {
        "id": "UYo_NMJZE55t"
      },
      "execution_count": null,
      "outputs": []
    },
    {
      "cell_type": "markdown",
      "source": [
        "Then we read the data file"
      ],
      "metadata": {
        "id": "jtpPWPgNFXzl"
      }
    },
    {
      "cell_type": "code",
      "source": [
        "data = tools.read_data(\"prueba10.tsp\")             #Read the data\n",
        "data"
      ],
      "metadata": {
        "id": "EpcUh9vXFZ5E"
      },
      "execution_count": null,
      "outputs": []
    },
    {
      "cell_type": "markdown",
      "source": [
        "We get the size of the instance. That is, the number of nodes `n`"
      ],
      "metadata": {
        "id": "pFnfL58NG4O2"
      }
    },
    {
      "cell_type": "code",
      "source": [
        "n = len(data)\n",
        "n"
      ],
      "metadata": {
        "id": "A55UgQ9HG6oc"
      },
      "execution_count": null,
      "outputs": []
    },
    {
      "cell_type": "markdown",
      "source": [
        "## <font color='8EC044'> **Distance calculation** </font>\n",
        "\n",
        "We are going to use the $\\tt{scipy.spatial}$ package to calculate the distances trhough the function `calculate_distances()`\n",
        "\n"
      ],
      "metadata": {
        "id": "sKhBBFN8k49J"
      }
    },
    {
      "cell_type": "code",
      "source": [
        "distances=tools.calculate_distances(data)\n",
        "distances"
      ],
      "metadata": {
        "id": "tLY5u_a8T9pk"
      },
      "execution_count": null,
      "outputs": []
    },
    {
      "cell_type": "markdown",
      "source": [
        "## <font color='056938'> **1.1 Initial solution generation** </font>\n",
        "\n",
        "As usual, we will use the Traveling Salesman Problem (TSP) as a toy problem for illustrate the functionality of these methods. The code in the modules we load makes use of the code from [Taillard](http://mistic.heig-vd.ch/taillard/articles.dir/taillard.html) (2023), which is, in turn, built upon [L'Ecuyer's](https://www.iro.umontreal.ca/~lecuyer/) random number generator for randomness.\n",
        "\n",
        "It is used to generate a random solution. That is an inital random permutation:"
      ],
      "metadata": {
        "id": "PnKE_SIYuHO-"
      }
    },
    {
      "cell_type": "code",
      "source": [
        "sol=ran_gen.rand_permutation(n)\n",
        "sol"
      ],
      "metadata": {
        "id": "h2iXFh-mNIjV"
      },
      "execution_count": null,
      "outputs": []
    },
    {
      "cell_type": "markdown",
      "source": [
        "##<font color='056938'> **1.1.1. Solution evaluation** </font>"
      ],
      "metadata": {
        "id": "VcbG9OYnJWXU"
      }
    },
    {
      "cell_type": "markdown",
      "source": [
        "### <font color='8EC044'> **Objective function calculation** </font>\n",
        "\n",
        "Now we define use function `tsp_distance()` to evaluate the objective function of a given permutation"
      ],
      "metadata": {
        "id": "2Oa8iGCfH7Sd"
      }
    },
    {
      "cell_type": "markdown",
      "source": [
        "For the case of the solution we previuosly generated it will be:"
      ],
      "metadata": {
        "id": "3BSFQEjmIF2F"
      }
    },
    {
      "cell_type": "code",
      "source": [
        "obj_fn = tools.tsp_distance(distances,sol)\n",
        "print(\"Distance of the permutation --> \" + str(obj_fn))"
      ],
      "metadata": {
        "id": "oyt084fIHvK8"
      },
      "execution_count": null,
      "outputs": []
    },
    {
      "cell_type": "markdown",
      "source": [
        "## <font color='056938'> **1.2 Evolution Strategy (1+1)** </font>\n",
        "\n"
      ],
      "metadata": {
        "id": "_Me3iUMRqblR"
      }
    },
    {
      "cell_type": "markdown",
      "source": [
        "La versión inicial de las estrategias evolutivas:  **(1 + 1)−ES** usaba un solo padre y con él se generaba un solo hijo. Este hijo se mantenía si era mejor que el padre, o de lo contrario se eliminaba (a este tipo de selección se le llama extintiva, porque los peores individuos tienen una probabilidad de cero de ser seleccionados).\n"
      ],
      "metadata": {
        "id": "MEu1lxPbLKrF"
      }
    },
    {
      "cell_type": "markdown",
      "source": [
        "### <font color='8EC044'> **1.2.1 Como mutar las soluciones de un TSP?** </font>\n",
        "\n"
      ],
      "metadata": {
        "id": "ehGY_UNIrJaS"
      }
    },
    {
      "cell_type": "markdown",
      "source": [
        "La siguientes dos funciones mutan un tour de TSP  de dos maneras complementarias:\n",
        "\n",
        ">Swap: Intercambiando dos ciudades al azar\n",
        "\n",
        ">Insertion: Reinsertando una ciudad elegida al azar en otra posición tambien elegida alazar"
      ],
      "metadata": {
        "id": "DeYGMHFTU9bU"
      }
    },
    {
      "cell_type": "markdown",
      "source": [
        "### <font color=blue> **Swap**</font>"
      ],
      "metadata": {
        "id": "WZy_QTd_LqBT"
      }
    },
    {
      "cell_type": "code",
      "source": [
        "import random\n",
        "\n",
        "def swap(tour):\n",
        "  \"\"\"\n",
        "  Swaps the positions of two randomly selected cities in a TSP tour.\n",
        "\n",
        "  Args:\n",
        "    tour: A list representing a TSP tour (permutation of city indices).\n",
        "\n",
        "  Returns:\n",
        "    A new list representing the modified tour with two cities swapped.\n",
        "  \"\"\"\n",
        "  # Create a copy to avoid modifying the origin al tour\n",
        "  new_tour = tour[:]\n",
        "\n",
        "  # Select two different random indices\n",
        "  idx1, idx2 = random.sample(range(len(new_tour)), 2)\n",
        "\n",
        "  # Swap the elements at the selected indices\n",
        "  new_tour[idx1], new_tour[idx2] = new_tour[idx2], new_tour[idx1]\n",
        "\n",
        "  return new_tour"
      ],
      "metadata": {
        "id": "5q3ZMjL88w5m"
      },
      "execution_count": null,
      "outputs": []
    },
    {
      "cell_type": "markdown",
      "source": [
        "Probemos la funcion swap"
      ],
      "metadata": {
        "id": "zTiHC4E9MDFW"
      }
    },
    {
      "cell_type": "code",
      "source": [
        "sol=ran_gen.rand_permutation(n)    #Generar una solución aleatoria\n",
        "print(\"Solucion: \" +  str(sol))\n",
        "obj_fn = tools.tsp_distance(distances,sol)\n",
        "print(\"Distancia de la solucion --> \" + str(obj_fn))\n",
        "swapSol=swap(sol)\n",
        "print(\"Solucion mutada con swap: \" +  str(swapSol))\n",
        "obj_fn = tools.tsp_distance(distances,swapSol)\n",
        "print(\"Distancia de la solucion mutada --> \" + str(obj_fn))\n"
      ],
      "metadata": {
        "id": "uIuWYfnhMCMf"
      },
      "execution_count": null,
      "outputs": []
    },
    {
      "cell_type": "markdown",
      "source": [
        "### <font color=blue> **Insert**</font>"
      ],
      "metadata": {
        "id": "To6LV3anNSJi"
      }
    },
    {
      "cell_type": "code",
      "source": [
        "import random\n",
        "\n",
        "def insert(tour):\n",
        "  \"\"\"\n",
        "  Selects a random position in a TSP tour and reinserts it into another random position.\n",
        "\n",
        "  Args:\n",
        "    tour: A list representing a TSP tour (permutation of city indices).\n",
        "\n",
        "  Returns:\n",
        "    A new list representing the modified tour with the element moved.\n",
        "  \"\"\"\n",
        "  # Create a copy to avoid modifying the original tour\n",
        "  new_tour = tour[:]\n",
        "\n",
        "  # Select a random index to remove\n",
        "  removed_idx = random.randint(0, len(new_tour) - 1)\n",
        "\n",
        "  # Remove the element at the selected index\n",
        "  removed_element = new_tour.pop(removed_idx)\n",
        "\n",
        "  # Select a new random index to insert\n",
        "  inserted_idx = random.randint(0, len(new_tour))\n",
        "\n",
        "  # Insert the removed element at the new index\n",
        "  new_tour.insert(inserted_idx, removed_element)\n",
        "\n",
        "  return new_tour\n"
      ],
      "metadata": {
        "id": "IZGGRyt0Nrz7"
      },
      "execution_count": null,
      "outputs": []
    },
    {
      "cell_type": "markdown",
      "source": [
        "Ahora probemos la funcion Insert"
      ],
      "metadata": {
        "id": "nF6xTHxIQBwk"
      }
    },
    {
      "cell_type": "code",
      "source": [
        "sol=ran_gen.rand_permutation(n)    #Generar una solución aleatoria\n",
        "print(\"Solucion: \" +  str(sol))\n",
        "obj_fn = tools.tsp_distance(distances,sol)\n",
        "print(\"Distancia de la solucion --> \" + str(obj_fn))\n",
        "insertSol=insert(sol)\n",
        "print(\"Solucion mutada con insert: \" +  str(insertSol))\n",
        "obj_fn = tools.tsp_distance(distances,insertSol)\n",
        "print(\"Distancia de la solucion mutada --> \" + str(obj_fn))"
      ],
      "metadata": {
        "id": "osFUJmRRNz1K"
      },
      "execution_count": null,
      "outputs": []
    },
    {
      "cell_type": "markdown",
      "source": [
        "## <font color=Red> **Ejercicio de Codificación`**</font>\n",
        "\n",
        "Crear cuatro estrategias para resolver el TSP:\n",
        "* programar la solución inicial para que se usen soluciones iniciales aleatorias o de vecino más cercano\n",
        " Que usen swap o insert como  operador de mutación\n",
        "*  Compararlas en los problemas Berlin 52 y a280\n",
        "\n"
      ],
      "metadata": {
        "id": "aMtiklHsTf2e"
      }
    },
    {
      "cell_type": "markdown",
      "source": [],
      "metadata": {
        "id": "fWd8FkEQRFt3"
      }
    }
  ]
}