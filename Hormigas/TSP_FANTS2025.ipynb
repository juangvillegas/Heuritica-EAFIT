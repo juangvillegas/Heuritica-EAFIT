{
 "cells": [
  {
   "cell_type": "markdown",
   "metadata": {
    "id": "Ki9gDBcbP6ge"
   },
   "source": [
    "# <font color='056938'> **Load modules** </font>\n",
    "\n",
    "We will load into this notebook some modules with functions that will help you in the development of heuristics and metaheuristics for the solution of travelling salesman problemas\n",
    "\n",
    "The module `random_generators.py` include the functions to deal with generating random numbers. The ultimate function of this module is to generate a random permutation (solution) of the tsp problem\n",
    "* Random tour generation: `rand_permutation`\n",
    "\n",
    "The module `tsp_tools` provides different functions to help from the data reading to the solution ploting\n",
    "* Data reading: `read_data(filepath)`\n",
    "> `filepath`: the route to the file with the instance's data\n",
    "* Distance calculation: `calculate_distances`\n",
    "* Data display: `print_TSPdata()\n",
    "* Solution evaluation: `tsp_distance`\n",
    "* Tour display: `plot_tsp_route()`\n",
    "* Plot the search trayectory `plot_trace(trace)`"
   ]
  },
  {
   "cell_type": "code",
   "execution_count": 1,
   "metadata": {
    "id": "ctiIdOugP1gK"
   },
   "outputs": [],
   "source": [
    "import random_generators as ran_gen\n",
    "import tsp_tools as tools"
   ]
  },
  {
   "cell_type": "markdown",
   "metadata": {
    "id": "CJ4QTSA6EUrE"
   },
   "source": [
    "# <font color='056938'> **Instance generation** </font>"
   ]
  },
  {
   "cell_type": "markdown",
   "metadata": {
    "id": "Mo8VUu-DEeTM"
   },
   "source": [
    "## <font color='8EC044'> **Data reading** </font>\n",
    "\n",
    "We will use the clasical test instances stored in  [TSPlib](http://comopt.ifi.uni-heidelberg.de/software/TSPLIB95/), the format of these instances include a heading with the following information:\n",
    "\n",
    ">NAME: berlin52\n",
    "\n",
    ">TYPE: TSP\n",
    "\n",
    ">COMMENT: 52 locations in Berlin (Groetschel)\n",
    "\n",
    ">DIMENSION: 52\n",
    "\n",
    ">EDGE_WEIGHT_TYPE: EUC_2D\n",
    "\n",
    ">NODE_COORD_SECTION\n",
    "\n",
    "Then, n lines with the coordinates of the cities in the following format (cityID, Coordinate X, Coordinate Y):\n",
    "\n",
    "**id cX cY**\n",
    "\n",
    "Knowing this structure we are going to read three files\n",
    "\n",
    "* `prueba10.tsp`\n",
    "* `berlin52.tsp`\n",
    "* `a280.tsp`\n",
    "\n",
    "\n"
   ]
  },
  {
   "cell_type": "markdown",
   "metadata": {
    "id": "9MMcsprhFC-u"
   },
   "source": [
    "First we load the datafile to the colab environment"
   ]
  },
  {
   "cell_type": "markdown",
   "metadata": {
    "id": "jtpPWPgNFXzl"
   },
   "source": [
    "Then we read the data file"
   ]
  },
  {
   "cell_type": "code",
   "execution_count": 2,
   "metadata": {
    "id": "EpcUh9vXFZ5E"
   },
   "outputs": [
    {
     "data": {
      "text/plain": [
       "[[565.0, 575.0],\n",
       " [25.0, 185.0],\n",
       " [345.0, 750.0],\n",
       " [945.0, 685.0],\n",
       " [845.0, 655.0],\n",
       " [880.0, 660.0],\n",
       " [25.0, 230.0],\n",
       " [525.0, 1000.0],\n",
       " [580.0, 1175.0],\n",
       " [650.0, 1130.0]]"
      ]
     },
     "execution_count": 2,
     "metadata": {},
     "output_type": "execute_result"
    }
   ],
   "source": [
    "data = tools.read_data(\"prueba10.tsp\")             #Read the data\n",
    "data"
   ]
  },
  {
   "cell_type": "markdown",
   "metadata": {
    "id": "pFnfL58NG4O2"
   },
   "source": [
    "We get the size of the instance. That is, the number of nodes `n`"
   ]
  },
  {
   "cell_type": "code",
   "execution_count": 3,
   "metadata": {
    "id": "A55UgQ9HG6oc"
   },
   "outputs": [
    {
     "data": {
      "text/plain": [
       "10"
      ]
     },
     "execution_count": 3,
     "metadata": {},
     "output_type": "execute_result"
    }
   ],
   "source": [
    "n = len(data)\n",
    "n"
   ]
  },
  {
   "cell_type": "markdown",
   "metadata": {
    "id": "sKhBBFN8k49J"
   },
   "source": [
    "## <font color='8EC044'> **Distance calculation** </font>\n",
    "\n",
    "We are going to use the $\\tt{scipy.spatial}$ package to calculate the distances trhough the function `calculate_distances()`\n",
    "\n"
   ]
  },
  {
   "cell_type": "code",
   "execution_count": 4,
   "metadata": {
    "id": "tLY5u_a8T9pk"
   },
   "outputs": [
    {
     "data": {
      "text/plain": [
       "array([[   0.        ,  666.10809934,  281.11385594,  395.6008089 ,\n",
       "         291.20439557,  326.26676202,  640.8002809 ,  426.87820277,\n",
       "         600.18747071,  561.47128155],\n",
       "       [ 666.10809934,    0.        ,  649.32657423, 1047.09120902,\n",
       "         945.14549145,  978.08486339,   45.        ,  956.15113868,\n",
       "        1134.95594628, 1132.98278892],\n",
       "       [ 281.11385594,  649.32657423,    0.        ,  603.51056329,\n",
       "         508.9449872 ,  542.51728083,  610.5735009 ,  308.05843601,\n",
       "         485.64390246,  487.26276279],\n",
       "       [ 395.6008089 , 1047.09120902,  603.51056329,    0.        ,\n",
       "         104.40306509,   69.64194139, 1026.36494484,  525.        ,\n",
       "         611.00327331,  533.90073984],\n",
       "       [ 291.20439557,  945.14549145,  508.9449872 ,  104.40306509,\n",
       "           0.        ,   35.35533906,  923.59352531,  470.55817919,\n",
       "         583.6308765 ,  513.4685969 ],\n",
       "       [ 326.26676202,  978.08486339,  542.51728083,   69.64194139,\n",
       "          35.35533906,    0.        ,  957.0397066 ,  491.55365933,\n",
       "         596.00755029,  523.25901808],\n",
       "       [ 640.8002809 ,   45.        ,  610.5735009 , 1026.36494484,\n",
       "         923.59352531,  957.0397066 ,    0.        ,  918.09585556,\n",
       "        1095.92426746, 1095.73035004],\n",
       "       [ 426.87820277,  956.15113868,  308.05843601,  525.        ,\n",
       "         470.55817919,  491.55365933,  918.09585556,    0.        ,\n",
       "         183.43936328,  180.34688797],\n",
       "       [ 600.18747071, 1134.95594628,  485.64390246,  611.00327331,\n",
       "         583.6308765 ,  596.00755029, 1095.92426746,  183.43936328,\n",
       "           0.        ,   83.21658489],\n",
       "       [ 561.47128155, 1132.98278892,  487.26276279,  533.90073984,\n",
       "         513.4685969 ,  523.25901808, 1095.73035004,  180.34688797,\n",
       "          83.21658489,    0.        ]])"
      ]
     },
     "execution_count": 4,
     "metadata": {},
     "output_type": "execute_result"
    }
   ],
   "source": [
    "distances=tools.calculate_distances(data)\n",
    "distances"
   ]
  },
  {
   "cell_type": "markdown",
   "metadata": {
    "id": "PnKE_SIYuHO-"
   },
   "source": [
    "## <font color='056938'> **1.1 Initial solution generation** </font>\n",
    "\n",
    "As usual, we will use the Traveling Salesman Problem (TSP) as a toy problem for illustrate the functionality of these methods. The code in the modules we load makes use of the code from [Taillard](http://mistic.heig-vd.ch/taillard/articles.dir/taillard.html) (2023), which is, in turn, built upon [L'Ecuyer's](https://www.iro.umontreal.ca/~lecuyer/) random number generator for randomness.\n",
    "\n",
    "It is used to generate a random solution. That is an inital random permutation:"
   ]
  },
  {
   "cell_type": "code",
   "execution_count": 5,
   "metadata": {
    "id": "h2iXFh-mNIjV"
   },
   "outputs": [
    {
     "data": {
      "text/plain": [
       "[4, 2, 9, 1, 7, 5, 0, 6, 8, 3]"
      ]
     },
     "execution_count": 5,
     "metadata": {},
     "output_type": "execute_result"
    }
   ],
   "source": [
    "sol=ran_gen.rand_permutation(n)\n",
    "sol"
   ]
  },
  {
   "cell_type": "markdown",
   "metadata": {
    "id": "VcbG9OYnJWXU"
   },
   "source": [
    "##<font color='056938'> **1.1.1. Solution evaluation** </font>"
   ]
  },
  {
   "cell_type": "markdown",
   "metadata": {
    "id": "2Oa8iGCfH7Sd"
   },
   "source": [
    "### <font color='8EC044'> **Objective function calculation** </font>\n",
    "\n",
    "Now we define use function `tsp_distance()` to evaluate the objective function of a given permutation"
   ]
  },
  {
   "cell_type": "markdown",
   "metadata": {
    "id": "3BSFQEjmIF2F"
   },
   "source": [
    "For the case of the solution we previuosly generated it will be:"
   ]
  },
  {
   "cell_type": "code",
   "execution_count": 6,
   "metadata": {
    "id": "oyt084fIHvK8"
   },
   "outputs": [
    {
     "name": "stdout",
     "output_type": "stream",
     "text": [
      "Distance of the permutation --> 6355.292985706332\n"
     ]
    }
   ],
   "source": [
    "obj_fn = tools.tsp_distance(distances,sol)\n",
    "print(\"Distance of the permutation --> \" + str(obj_fn))"
   ]
  },
  {
   "cell_type": "markdown",
   "metadata": {
    "id": "_Me3iUMRqblR"
   },
   "source": [
    "## <font color='056938'> **1.2 Ant Colony Optimization** </font>"
   ]
  },
  {
   "cell_type": "markdown",
   "metadata": {
    "id": "VV2t7Jy8vh2h"
   },
   "source": [
    "Ant Colony Optimization (ACO) is a nature-inspired optimization algorithm that is based on the foraging behavior of ants. It is commonly used to find solutions to complex combinatorial optimization problems. In ACO, a population of artificial ants iteratively builds solutions to a problem by depositing and following pheromone trails. Ants communicate through these pheromone trails, reinforcing paths that lead to good solutions and fading away those that lead to suboptimal ones. Over time, the algorithm converges towards an optimal or near-optimal solution."
   ]
  },
  {
   "cell_type": "markdown",
   "metadata": {
    "id": "ehGY_UNIrJaS"
   },
   "source": [
    "### <font color='8EC044'> **1.2.1 How to deﬁne the trails of an artiﬁcial ant colony for TSP?** </font>\n",
    "\n"
   ]
  },
  {
   "cell_type": "markdown",
   "metadata": {
    "id": "DeYGMHFTU9bU"
   },
   "source": [
    "The following function will help us to initialize a pheromone trails matris:"
   ]
  },
  {
   "cell_type": "code",
   "execution_count": 7,
   "metadata": {
    "id": "GzUW3j1uTVqo"
   },
   "outputs": [],
   "source": [
    "def init_trail(initial_value, trail):\n",
    "  n = len(trail[0])\n",
    "  for i in range(n):\n",
    "    for j in range(n):\n",
    "      trail[i][j] = initial_value\n",
    "\n",
    "  for i in range(n):\n",
    "    trail[i][i] = 0\n",
    "\n",
    "  return trail"
   ]
  },
  {
   "cell_type": "markdown",
   "metadata": {
    "id": "P0xMSiHCUos1"
   },
   "source": [
    "Let's define a pheromone matrix for the instance *prueba10.tsp*. It will be a matrix $10 \\times 10$:"
   ]
  },
  {
   "cell_type": "code",
   "execution_count": 8,
   "metadata": {
    "id": "xax84e_HUoHO"
   },
   "outputs": [
    {
     "data": {
      "text/plain": [
       "[[0, 0.5, 0.5, 0.5, 0.5, 0.5, 0.5, 0.5, 0.5, 0.5],\n",
       " [0.5, 0, 0.5, 0.5, 0.5, 0.5, 0.5, 0.5, 0.5, 0.5],\n",
       " [0.5, 0.5, 0, 0.5, 0.5, 0.5, 0.5, 0.5, 0.5, 0.5],\n",
       " [0.5, 0.5, 0.5, 0, 0.5, 0.5, 0.5, 0.5, 0.5, 0.5],\n",
       " [0.5, 0.5, 0.5, 0.5, 0, 0.5, 0.5, 0.5, 0.5, 0.5],\n",
       " [0.5, 0.5, 0.5, 0.5, 0.5, 0, 0.5, 0.5, 0.5, 0.5],\n",
       " [0.5, 0.5, 0.5, 0.5, 0.5, 0.5, 0, 0.5, 0.5, 0.5],\n",
       " [0.5, 0.5, 0.5, 0.5, 0.5, 0.5, 0.5, 0, 0.5, 0.5],\n",
       " [0.5, 0.5, 0.5, 0.5, 0.5, 0.5, 0.5, 0.5, 0, 0.5],\n",
       " [0.5, 0.5, 0.5, 0.5, 0.5, 0.5, 0.5, 0.5, 0.5, 0]]"
      ]
     },
     "execution_count": 8,
     "metadata": {},
     "output_type": "execute_result"
    }
   ],
   "source": [
    "n = 10\n",
    "trail = [[-1] * n for _ in range(n)]\n",
    "trail = init_trail(0.5, trail)\n",
    "trail"
   ]
  },
  {
   "cell_type": "markdown",
   "metadata": {
    "id": "yVrTVgMhXmda"
   },
   "source": [
    "At the begining all trails gets the same value, because we do not have posterior information about the problem.\n",
    "\n",
    "The pheromone trails must updated after each iteration. This process is developed in two steps:\n",
    "\n",
    "1. Evaporation: All pheromones trails are reduced by a fixed portion $ρ \\in (0, 1)$:\n",
    "$$\\tau_{ij} := (1 - ρ) \\cdot τ_{ij} ∀ i,j \\in [1: n] $$\n",
    "2. Intensification: All pheromone trails corresponding to the best solution $π^*$ are increased by an absolute amount $Δ > 0$:\n",
    "$$\\tau_{iπ^*} := τ_{i\\pi^*} + \\Delta  ∀ i \\in [1: n] $$\n"
   ]
  },
  {
   "cell_type": "markdown",
   "metadata": {
    "id": "FiMko54Kb1mW"
   },
   "source": [
    "Now, it is the time for you to program the `update_trails` function. This function receives the current pheromone trails matrix `trail`, the parameters $\\rho$ and $\\Delta$, and the permutation representing the best solution found in an iteration of the ACO algorithm.  "
   ]
  },
  {
   "cell_type": "markdown",
   "metadata": {
    "id": "pioXKZTz01Wm"
   },
   "source": [
    "### <font color='8EC044'> **1.2.2 Constructive method** </font>\n",
    "\n",
    "Now, we need to create our constructive heuristic. This function will construct a path to visit all cities in the problem, based on the probability $p_{ij}$ which is computed unsing only the pheromone trails:\n",
    "$$p_{ij} := \\frac{τ_{ij}}{∑_{z∈S} τ_{iz}} ∀ j \\in S$$\n",
    "\n",
    "Now, it is time to code the function to compute the probability to go from city $i$ to $j$. This function also needs the updated pheromone `trail` and the set of unvisited cities `S`:"
   ]
  },
  {
   "cell_type": "markdown",
   "metadata": {
    "id": "ZXvoQN0HXAvV"
   },
   "source": [
    "Print best solution's trajectory"
   ]
  },
  {
   "cell_type": "markdown",
   "metadata": {
    "id": "55us3kdhPnN-"
   },
   "source": [
    "# <font color='056938'> **Fast Ant System** </font>"
   ]
  },
  {
   "cell_type": "markdown",
   "metadata": {
    "id": "nF6xTHxIQBwk"
   },
   "source": [
    "Several authors have pointed the disadvantages of the basic Ant Colony Optimization algorithm [(Taillard, 2022)](https://link.springer.com/chapter/10.1007/978-3-031-13714-3_8). For that reason, FANT, a simplified framework has been proposed.\n",
    "\n",
    "Let's define the functions needed for implementing the framework and test it.\n",
    "\n",
    "First, the constructive heuristic:"
   ]
  },
  {
   "cell_type": "code",
   "execution_count": 9,
   "metadata": {
    "id": "_8RH1VwxR0h6"
   },
   "outputs": [],
   "source": [
    "#Create random number geneator\n",
    "# Select a random city based on the probabilities computed\n",
    "import random\n",
    "\n",
    "def generate_solution_trail(distance, tour, trail):\n",
    "  n = len(tour)\n",
    "  for i in range(1, n - 1):\n",
    "    total =0\n",
    "    for j in range(i + 1, n):\n",
    "      total += trail[tour[i - 1]][tour[j]]\n",
    "    target = random.uniform(0, total - 1)\n",
    "    j = i\n",
    "    total = trail[tour[i - 1]][tour[j]]\n",
    "\n",
    "    while total < target:\n",
    "      total += trail[tour[i - 1]][tour[j + 1]]\n",
    "      j += 1\n",
    "    tour[j], tour[i]= tour[i], tour[j]\n",
    "  return tour, tools.tsp_distance(distance, tour)"
   ]
  },
  {
   "cell_type": "markdown",
   "metadata": {
    "id": "6vwyd4qsRz0E"
   },
   "source": [
    "Now we need to create a new function to update the pheromone trials:"
   ]
  },
  {
   "cell_type": "code",
   "execution_count": 14,
   "metadata": {
    "id": "SNUTiNbvS-rn"
   },
   "outputs": [],
   "source": [
    "def update_trail(tour, global_best, exploration, exploitation, trail):\n",
    "  if tour == global_best:\n",
    "    exploration += 1\n",
    "    trail = init_trail(exploration, trail)\n",
    "  else:\n",
    "    for i in tour:\n",
    "      n = len(trail[0])\n",
    "      trail[tour[i]][tour[(i + 1) % n]] += exploration\n",
    "      trail[global_best[i]][global_best[(i + 1) % n]] += exploitation\n",
    "  return trail, exploration"
   ]
  },
  {
   "cell_type": "markdown",
   "metadata": {
    "id": "aMtiklHsTf2e"
   },
   "source": [
    "Let's define the fant function:"
   ]
  },
  {
   "cell_type": "code",
   "execution_count": 12,
   "metadata": {
    "id": "rDcDJjxnTmUa"
   },
   "outputs": [],
   "source": [
    "from random_generators import rand_permutation\n",
    "def tsp_FANT(d, exploitation, iterations):\n",
    "  n = len(d[0])\n",
    "  best_cost = float('inf')\n",
    "  exploration =1\n",
    "  trail = [[-1] * n for _ in range(n)]\n",
    "  trail = init_trail(exploration, trail)\n",
    "  tour = rand_permutation(n)\n",
    "  trace = []\n",
    "  for i in range(iterations):\n",
    "    print(trail)\n",
    "    # build solution\n",
    "    tour, cost = generate_solution_trail(d, tour, trail)\n",
    "    # improve built solution witho a local search\n",
    "    #tour, cost = tsp_LK(d, tour, cost)\n",
    "    print(cost)\n",
    "    #tour, cost = local_search_tsp(tour, d)\n",
    "    trace.append([i, cost])\n",
    "    if cost < best_cost:\n",
    "      best_cost = cost\n",
    "      print('\\t\\t\\t\\t\\tFANT {:d} {:f}'.format(i+1, cost))\n",
    "      best_sol = list(tour)\n",
    "      exploration =1\n",
    "      # Reset exploration to lowest value\n",
    "      trail = init_trail(exploration, trail)\n",
    "    else:\n",
    "      # pheromone trace reinforcement - increase memory\n",
    "      trail, exploration = update_trail(tour, best_sol, exploration,\n",
    "                                        exploitation, trail)\n",
    "  return best_sol, best_cost, trace"
   ]
  },
  {
   "cell_type": "code",
   "execution_count": 21,
   "metadata": {
    "id": "myVYgkmDUbUG"
   },
   "outputs": [
    {
     "name": "stdout",
     "output_type": "stream",
     "text": [
      "[[0, 1, 1, 1, 1, 1, 1, 1, 1, 1], [1, 0, 1, 1, 1, 1, 1, 1, 1, 1], [1, 1, 0, 1, 1, 1, 1, 1, 1, 1], [1, 1, 1, 0, 1, 1, 1, 1, 1, 1], [1, 1, 1, 1, 0, 1, 1, 1, 1, 1], [1, 1, 1, 1, 1, 0, 1, 1, 1, 1], [1, 1, 1, 1, 1, 1, 0, 1, 1, 1], [1, 1, 1, 1, 1, 1, 1, 0, 1, 1], [1, 1, 1, 1, 1, 1, 1, 1, 0, 1], [1, 1, 1, 1, 1, 1, 1, 1, 1, 0]]\n",
      "6669.990767630941\n",
      "\t\t\t\t\tFANT 1 6669.990768\n",
      "[[0, 1, 1, 1, 1, 1, 1, 1, 1, 1], [1, 0, 1, 1, 1, 1, 1, 1, 1, 1], [1, 1, 0, 1, 1, 1, 1, 1, 1, 1], [1, 1, 1, 0, 1, 1, 1, 1, 1, 1], [1, 1, 1, 1, 0, 1, 1, 1, 1, 1], [1, 1, 1, 1, 1, 0, 1, 1, 1, 1], [1, 1, 1, 1, 1, 1, 0, 1, 1, 1], [1, 1, 1, 1, 1, 1, 1, 0, 1, 1], [1, 1, 1, 1, 1, 1, 1, 1, 0, 1], [1, 1, 1, 1, 1, 1, 1, 1, 1, 0]]\n",
      "6413.941755672014\n",
      "\t\t\t\t\tFANT 2 6413.941756\n",
      "[[0, 1, 1, 1, 1, 1, 1, 1, 1, 1], [1, 0, 1, 1, 1, 1, 1, 1, 1, 1], [1, 1, 0, 1, 1, 1, 1, 1, 1, 1], [1, 1, 1, 0, 1, 1, 1, 1, 1, 1], [1, 1, 1, 1, 0, 1, 1, 1, 1, 1], [1, 1, 1, 1, 1, 0, 1, 1, 1, 1], [1, 1, 1, 1, 1, 1, 0, 1, 1, 1], [1, 1, 1, 1, 1, 1, 1, 0, 1, 1], [1, 1, 1, 1, 1, 1, 1, 1, 0, 1], [1, 1, 1, 1, 1, 1, 1, 1, 1, 0]]\n",
      "6259.420952557865\n",
      "\t\t\t\t\tFANT 3 6259.420953\n",
      "[[0, 1, 1, 1, 1, 1, 1, 1, 1, 1], [1, 0, 1, 1, 1, 1, 1, 1, 1, 1], [1, 1, 0, 1, 1, 1, 1, 1, 1, 1], [1, 1, 1, 0, 1, 1, 1, 1, 1, 1], [1, 1, 1, 1, 0, 1, 1, 1, 1, 1], [1, 1, 1, 1, 1, 0, 1, 1, 1, 1], [1, 1, 1, 1, 1, 1, 0, 1, 1, 1], [1, 1, 1, 1, 1, 1, 1, 0, 1, 1], [1, 1, 1, 1, 1, 1, 1, 1, 0, 1], [1, 1, 1, 1, 1, 1, 1, 1, 1, 0]]\n",
      "4595.8120053160765\n",
      "\t\t\t\t\tFANT 4 4595.812005\n",
      "[[0, 1, 1, 1, 1, 1, 1, 1, 1, 1], [1, 0, 1, 1, 1, 1, 1, 1, 1, 1], [1, 1, 0, 1, 1, 1, 1, 1, 1, 1], [1, 1, 1, 0, 1, 1, 1, 1, 1, 1], [1, 1, 1, 1, 0, 1, 1, 1, 1, 1], [1, 1, 1, 1, 1, 0, 1, 1, 1, 1], [1, 1, 1, 1, 1, 1, 0, 1, 1, 1], [1, 1, 1, 1, 1, 1, 1, 0, 1, 1], [1, 1, 1, 1, 1, 1, 1, 1, 0, 1], [1, 1, 1, 1, 1, 1, 1, 1, 1, 0]]\n",
      "5753.353233967285\n",
      "[[0, 1, 1, 1, 1, 1, 1, 1, 1, 2.2], [1, 0, 2, 1, 1, 1.2, 1, 1, 1, 1], [1, 1, 0, 1, 1, 1, 2.2, 1, 1, 1], [1, 1, 1, 0, 1, 1, 1, 1.2, 2, 1], [1, 1, 1.2, 1, 0, 1, 1, 2, 1, 1], [1, 1, 1, 2.2, 1, 0, 1, 1, 1, 1], [2, 1.2, 1, 1, 1, 1, 0, 1, 1, 1], [1, 1, 1, 1, 1, 2, 1, 0, 1.2, 1], [1.2, 2, 1, 1, 1, 1, 1, 1, 0, 1], [1, 1, 1, 1, 2.2, 1, 1, 1, 1, 0]]\n",
      "5918.7238394656815\n",
      "[[0, 1, 1, 1, 1, 1, 1, 1, 1, 3.4000000000000004], [1, 0, 3, 1, 1, 1.4, 1, 1, 1, 1], [1, 1, 0, 1, 1, 1, 3.4000000000000004, 1, 1, 1], [2, 1, 1, 0, 1, 1, 1, 1.4, 2, 1], [1, 1, 1.4, 1, 0, 1, 1, 3, 1, 1], [1, 1, 1, 3.4000000000000004, 1, 0, 1, 1, 1, 1], [2, 1.4, 1, 1, 1, 1, 0, 1, 2, 1], [1, 2, 1, 1, 1, 2, 1, 0, 1.4, 1], [1.4, 2, 1, 1, 1, 2, 1, 1, 0, 1], [1, 1, 1, 1, 3.4000000000000004, 1, 1, 1, 1, 0]]\n",
      "6457.41808838857\n",
      "[[0, 1, 2, 1, 1, 1, 1, 1, 1, 3.6000000000000005], [1, 0, 3, 2, 1, 1.5999999999999999, 1, 1, 1, 1], [1, 1, 0, 1, 1, 1, 3.6000000000000005, 2, 1, 1], [2, 1, 1, 0, 1, 1, 1, 1.5999999999999999, 3, 1], [1, 2, 1.5999999999999999, 1, 0, 1, 1, 3, 1, 1], [1, 1, 1, 3.6000000000000005, 1, 0, 1, 1, 1, 2], [3, 1.5999999999999999, 1, 1, 1, 1, 0, 1, 2, 1], [1, 2, 1, 1, 1, 3, 1, 0, 1.5999999999999999, 1], [1.5999999999999999, 2, 1, 1, 1, 2, 2, 1, 0, 1], [1, 1, 1, 1, 4.6000000000000005, 1, 1, 1, 1, 0]]\n",
      "6400.364783211413\n",
      "[[0, 1, 2, 1, 1, 1, 1, 1, 1, 4.800000000000001], [1, 0, 3, 2, 1, 2.8, 1, 1, 1, 1], [1, 1, 0, 2, 1, 1, 3.8000000000000007, 2, 1, 1], [2, 1, 1, 0, 1, 1, 1, 1.7999999999999998, 4, 1], [1, 2, 1.7999999999999998, 1, 0, 1, 2, 3, 1, 1], [2, 1, 1, 3.8000000000000007, 1, 0, 1, 1, 1, 2], [3, 1.7999999999999998, 2, 1, 1, 1, 0, 1, 2, 1], [1, 2, 1, 1, 2, 3, 1, 0, 1.7999999999999998, 1], [1.7999999999999998, 3, 1, 1, 1, 2, 2, 1, 0, 1], [1, 1, 1, 1, 4.800000000000001, 1, 1, 2, 1, 0]]\n",
      "5511.22485263833\n",
      "[[0, 1, 2, 2, 1, 1, 1, 1, 1, 5.000000000000001], [1, 0, 3, 2, 1, 4.0, 1, 1, 1, 1], [1, 1, 0, 2, 1, 1, 5.000000000000001, 2, 1, 1], [2, 2, 1, 0, 1, 1, 1, 1.9999999999999998, 4, 1], [1, 2, 3.0, 1, 0, 1, 2, 3, 1, 1], [2, 1, 1, 4.000000000000001, 1, 0, 1, 1, 2, 2], [4, 1.9999999999999998, 2, 1, 1, 1, 0, 1, 2, 1], [1, 2, 1, 1, 3, 3, 1, 0, 1.9999999999999998, 1], [1.9999999999999998, 3, 1, 1, 1, 2, 2, 1, 0, 2], [1, 1, 1, 1, 5.000000000000001, 1, 1, 3, 1, 0]]\n",
      "5773.891602193773\n",
      "[[0, 1, 2, 2, 1, 1, 1, 1, 1, 6.200000000000001], [1, 0, 3, 2, 1, 5.2, 1, 1, 1, 1], [1, 1, 0, 2, 1, 1, 5.200000000000001, 3, 1, 1], [2, 2, 2, 0, 1, 1, 1, 2.1999999999999997, 4, 1], [1, 2, 3.2, 1, 0, 1, 3, 3, 1, 1], [2, 1, 1, 5.200000000000001, 1, 0, 1, 1, 2, 2], [5, 2.1999999999999997, 2, 1, 1, 1, 0, 1, 2, 1], [1, 2, 1, 1, 4, 3, 1, 0, 2.1999999999999997, 1], [2.1999999999999997, 4, 1, 1, 1, 2, 2, 1, 0, 2], [1, 1, 1, 1, 5.200000000000001, 1, 1, 3, 2, 0]]\n",
      "4240.315156590371\n",
      "\t\t\t\t\tFANT 11 4240.315157\n",
      "[[0, 1, 1, 1, 1, 1, 1, 1, 1, 1], [1, 0, 1, 1, 1, 1, 1, 1, 1, 1], [1, 1, 0, 1, 1, 1, 1, 1, 1, 1], [1, 1, 1, 0, 1, 1, 1, 1, 1, 1], [1, 1, 1, 1, 0, 1, 1, 1, 1, 1], [1, 1, 1, 1, 1, 0, 1, 1, 1, 1], [1, 1, 1, 1, 1, 1, 0, 1, 1, 1], [1, 1, 1, 1, 1, 1, 1, 0, 1, 1], [1, 1, 1, 1, 1, 1, 1, 1, 0, 1], [1, 1, 1, 1, 1, 1, 1, 1, 1, 0]]\n",
      "6409.285830877716\n",
      "[[0, 2, 1, 1.2, 1, 1, 1, 1, 1, 1], [1, 0, 1, 2, 1, 1, 1.2, 1, 1, 1], [1, 1, 0, 1, 1, 1, 1, 2.2, 1, 1], [1, 1, 1.2, 0, 1, 2, 1, 1, 1, 1], [1, 1, 1, 1, 0, 1.2, 1, 1, 1, 2], [1, 1, 2, 1, 1, 0, 1, 1, 1, 1.2], [1.2, 1, 1, 1, 1, 1, 0, 1, 2, 1], [1, 1, 1, 1, 2.2, 1, 1, 0, 1, 1], [2, 1.2, 1, 1, 1, 1, 1, 1, 0, 1], [1, 1, 1, 1, 1, 1, 2, 1, 1.2, 0]]\n",
      "4320.539979829737\n",
      "[[0, 2, 1, 1.4, 1, 1, 2, 1, 1, 1], [1, 0, 1, 3, 1, 1, 1.4, 1, 1, 1], [1, 1, 0, 1, 1, 1, 1, 3.4000000000000004, 1, 1], [1, 1, 1.4, 0, 1, 3, 1, 1, 1, 1], [1, 1, 1, 1, 0, 1.4, 1, 1, 1, 3], [1, 1, 3, 1, 1, 0, 1, 1, 1, 1.4], [1.4, 2, 1, 1, 1, 1, 0, 1, 2, 1], [1, 1, 1, 1, 3.4000000000000004, 1, 1, 0, 1, 1], [3, 1.4, 1, 1, 1, 1, 1, 1, 0, 1], [1, 1, 1, 1, 1, 1, 2, 1, 2.4000000000000004, 0]]\n",
      "4881.21588977801\n",
      "[[0, 2, 1, 1.5999999999999999, 1, 2, 2, 1, 1, 1], [1, 0, 1, 3, 1, 1, 2.5999999999999996, 1, 1, 1], [1, 1, 0, 1, 1, 1, 1, 4.6000000000000005, 1, 1], [1, 1, 1.5999999999999999, 0, 1, 3, 1, 1, 1, 2], [1, 2, 1, 1, 0, 1.5999999999999999, 1, 1, 1, 3], [1, 1, 4, 1, 1, 0, 1, 1, 1, 1.5999999999999999], [1.5999999999999999, 2, 1, 2, 1, 1, 0, 1, 2, 1], [1, 1, 1, 1, 4.6000000000000005, 1, 1, 0, 1, 1], [4, 1.5999999999999999, 1, 1, 1, 1, 1, 1, 0, 1], [1, 1, 1, 1, 1, 1, 2, 1, 3.6000000000000005, 0]]\n",
      "6979.690659941872\n",
      "[[0, 2, 1, 1.7999999999999998, 2, 2, 2, 1, 1, 1], [1, 0, 1, 4, 1, 1, 2.8, 1, 1, 1], [1, 1, 0, 1, 1, 1, 1, 5.800000000000001, 1, 1], [1, 1, 1.7999999999999998, 0, 1, 3, 2, 1, 1, 2], [1, 2, 1, 1, 0, 1.7999999999999998, 1, 1, 2, 3], [1, 1, 5, 1, 1, 0, 1, 1, 1, 1.7999999999999998], [1.7999999999999998, 2, 1, 2, 1, 1, 0, 1, 2, 2], [2, 1, 1, 1, 4.800000000000001, 1, 1, 0, 1, 1], [4, 2.8, 1, 1, 1, 1, 1, 1, 0, 1], [1, 1, 1, 1, 1, 2, 2, 1, 3.8000000000000007, 0]]\n",
      "4629.764824705804\n",
      "[[0, 2, 1, 1.9999999999999998, 3, 2, 2, 1, 1, 1], [1, 0, 1, 4, 1, 1, 3.0, 1, 1, 2], [1, 1, 0, 1, 1, 2, 1, 6.000000000000001, 1, 1], [1, 1, 1.9999999999999998, 0, 1, 3, 3, 1, 1, 2], [1, 2, 1, 2, 0, 1.9999999999999998, 1, 1, 2, 3], [1, 1, 5, 1, 1, 0, 1, 2, 1, 1.9999999999999998], [1.9999999999999998, 3, 1, 2, 1, 1, 0, 1, 2, 2], [3, 1, 1, 1, 5.000000000000001, 1, 1, 0, 1, 1], [4, 3.0, 2, 1, 1, 1, 1, 1, 0, 1], [1, 1, 1, 1, 1, 2, 2, 1, 5.000000000000001, 0]]\n",
      "5019.753709438184\n",
      "[[0, 2, 1, 2.1999999999999997, 4, 2, 2, 1, 1, 1], [2, 0, 1, 4, 1, 1, 3.2, 1, 1, 2], [1, 1, 0, 2, 1, 2, 1, 6.200000000000001, 1, 1], [1, 1, 2.1999999999999997, 0, 1, 3, 3, 1, 2, 2], [1, 2, 2, 2, 0, 2.1999999999999997, 1, 1, 2, 3], [1, 1, 5, 1, 1, 0, 1, 2, 1, 3.2], [2.1999999999999997, 4, 1, 2, 1, 1, 0, 1, 2, 2], [3, 1, 1, 1, 5.200000000000001, 2, 1, 0, 1, 1], [4, 3.2, 2, 1, 1, 1, 1, 2, 0, 1], [1, 1, 1, 1, 1, 2, 3, 1, 5.200000000000001, 0]]\n",
      "3882.854565688344\n",
      "\t\t\t\t\tFANT 18 3882.854566\n",
      "[[0, 1, 1, 1, 1, 1, 1, 1, 1, 1], [1, 0, 1, 1, 1, 1, 1, 1, 1, 1], [1, 1, 0, 1, 1, 1, 1, 1, 1, 1], [1, 1, 1, 0, 1, 1, 1, 1, 1, 1], [1, 1, 1, 1, 0, 1, 1, 1, 1, 1], [1, 1, 1, 1, 1, 0, 1, 1, 1, 1], [1, 1, 1, 1, 1, 1, 0, 1, 1, 1], [1, 1, 1, 1, 1, 1, 1, 0, 1, 1], [1, 1, 1, 1, 1, 1, 1, 1, 0, 1], [1, 1, 1, 1, 1, 1, 1, 1, 1, 0]]\n",
      "6141.760673388986\n",
      "[[0, 2, 1, 1, 1, 1.2, 1, 1, 1, 1], [1, 0, 1, 2.2, 1, 1, 1, 1, 1, 1], [1, 1, 0, 1, 1, 1, 1.2, 1, 1, 2], [1, 1, 1, 0, 2.2, 1, 1, 1, 1, 1], [1, 1, 2, 1, 0, 1, 1, 1, 1, 1.2], [1, 1, 1.2, 1, 1, 0, 1, 2, 1, 1], [1, 1.2, 1, 1, 1, 2, 0, 1, 1, 1], [1.2, 1, 1, 1, 1, 1, 1, 0, 2, 1], [2, 1, 1, 1, 1, 1, 1, 1.2, 0, 1], [1, 1, 1, 1, 1, 1, 2, 1, 1.2, 0]]\n",
      "6863.032155630123\n"
     ]
    }
   ],
   "source": [
    "#Parameters\n",
    "n_iters = 20\n",
    "exploitation = 0.2\n",
    "\n",
    "# Read data\n",
    "data = tools.read_data(\"prueba10.tsp\")\n",
    "n = len(data)\n",
    "\n",
    "\n",
    "# Create distances and penalties matrices\n",
    "distances = tools.calculate_distances(data)\n",
    "\n",
    "best_sol, best_cost, trace = tsp_FANT(distances, exploitation, n_iters)"
   ]
  },
  {
   "cell_type": "code",
   "execution_count": 22,
   "metadata": {
    "id": "2F5RIVdsbxYU"
   },
   "outputs": [
    {
     "data": {
      "application/vnd.plotly.v1+json": {
       "config": {
        "plotlyServerURL": "https://plot.ly"
       },
       "data": [
        {
         "hovertemplate": "iteration=%{x}<br>best=%{y}<extra></extra>",
         "legendgroup": "",
         "line": {
          "color": "#636efa",
          "dash": "solid"
         },
         "marker": {
          "symbol": "circle"
         },
         "mode": "lines",
         "name": "",
         "orientation": "v",
         "showlegend": false,
         "type": "scatter",
         "x": [
          0,
          1,
          2,
          3,
          4,
          5,
          6,
          7,
          8,
          9,
          10,
          11,
          12,
          13,
          14,
          15,
          16,
          17,
          18,
          19
         ],
         "xaxis": "x",
         "y": [
          6669.990767630941,
          6413.941755672014,
          6259.420952557865,
          4595.8120053160765,
          5753.353233967285,
          5918.7238394656815,
          6457.41808838857,
          6400.364783211413,
          5511.22485263833,
          5773.891602193773,
          4240.315156590371,
          6409.285830877716,
          4320.539979829737,
          4881.21588977801,
          6979.690659941872,
          4629.764824705804,
          5019.753709438184,
          3882.854565688344,
          6141.760673388986,
          6863.032155630123
         ],
         "yaxis": "y"
        }
       ],
       "layout": {
        "legend": {
         "tracegroupgap": 0
        },
        "template": {
         "data": {
          "bar": [
           {
            "error_x": {
             "color": "#2a3f5f"
            },
            "error_y": {
             "color": "#2a3f5f"
            },
            "marker": {
             "line": {
              "color": "#E5ECF6",
              "width": 0.5
             },
             "pattern": {
              "fillmode": "overlay",
              "size": 10,
              "solidity": 0.2
             }
            },
            "type": "bar"
           }
          ],
          "barpolar": [
           {
            "marker": {
             "line": {
              "color": "#E5ECF6",
              "width": 0.5
             },
             "pattern": {
              "fillmode": "overlay",
              "size": 10,
              "solidity": 0.2
             }
            },
            "type": "barpolar"
           }
          ],
          "carpet": [
           {
            "aaxis": {
             "endlinecolor": "#2a3f5f",
             "gridcolor": "white",
             "linecolor": "white",
             "minorgridcolor": "white",
             "startlinecolor": "#2a3f5f"
            },
            "baxis": {
             "endlinecolor": "#2a3f5f",
             "gridcolor": "white",
             "linecolor": "white",
             "minorgridcolor": "white",
             "startlinecolor": "#2a3f5f"
            },
            "type": "carpet"
           }
          ],
          "choropleth": [
           {
            "colorbar": {
             "outlinewidth": 0,
             "ticks": ""
            },
            "type": "choropleth"
           }
          ],
          "contour": [
           {
            "colorbar": {
             "outlinewidth": 0,
             "ticks": ""
            },
            "colorscale": [
             [
              0,
              "#0d0887"
             ],
             [
              0.1111111111111111,
              "#46039f"
             ],
             [
              0.2222222222222222,
              "#7201a8"
             ],
             [
              0.3333333333333333,
              "#9c179e"
             ],
             [
              0.4444444444444444,
              "#bd3786"
             ],
             [
              0.5555555555555556,
              "#d8576b"
             ],
             [
              0.6666666666666666,
              "#ed7953"
             ],
             [
              0.7777777777777778,
              "#fb9f3a"
             ],
             [
              0.8888888888888888,
              "#fdca26"
             ],
             [
              1,
              "#f0f921"
             ]
            ],
            "type": "contour"
           }
          ],
          "contourcarpet": [
           {
            "colorbar": {
             "outlinewidth": 0,
             "ticks": ""
            },
            "type": "contourcarpet"
           }
          ],
          "heatmap": [
           {
            "colorbar": {
             "outlinewidth": 0,
             "ticks": ""
            },
            "colorscale": [
             [
              0,
              "#0d0887"
             ],
             [
              0.1111111111111111,
              "#46039f"
             ],
             [
              0.2222222222222222,
              "#7201a8"
             ],
             [
              0.3333333333333333,
              "#9c179e"
             ],
             [
              0.4444444444444444,
              "#bd3786"
             ],
             [
              0.5555555555555556,
              "#d8576b"
             ],
             [
              0.6666666666666666,
              "#ed7953"
             ],
             [
              0.7777777777777778,
              "#fb9f3a"
             ],
             [
              0.8888888888888888,
              "#fdca26"
             ],
             [
              1,
              "#f0f921"
             ]
            ],
            "type": "heatmap"
           }
          ],
          "heatmapgl": [
           {
            "colorbar": {
             "outlinewidth": 0,
             "ticks": ""
            },
            "colorscale": [
             [
              0,
              "#0d0887"
             ],
             [
              0.1111111111111111,
              "#46039f"
             ],
             [
              0.2222222222222222,
              "#7201a8"
             ],
             [
              0.3333333333333333,
              "#9c179e"
             ],
             [
              0.4444444444444444,
              "#bd3786"
             ],
             [
              0.5555555555555556,
              "#d8576b"
             ],
             [
              0.6666666666666666,
              "#ed7953"
             ],
             [
              0.7777777777777778,
              "#fb9f3a"
             ],
             [
              0.8888888888888888,
              "#fdca26"
             ],
             [
              1,
              "#f0f921"
             ]
            ],
            "type": "heatmapgl"
           }
          ],
          "histogram": [
           {
            "marker": {
             "pattern": {
              "fillmode": "overlay",
              "size": 10,
              "solidity": 0.2
             }
            },
            "type": "histogram"
           }
          ],
          "histogram2d": [
           {
            "colorbar": {
             "outlinewidth": 0,
             "ticks": ""
            },
            "colorscale": [
             [
              0,
              "#0d0887"
             ],
             [
              0.1111111111111111,
              "#46039f"
             ],
             [
              0.2222222222222222,
              "#7201a8"
             ],
             [
              0.3333333333333333,
              "#9c179e"
             ],
             [
              0.4444444444444444,
              "#bd3786"
             ],
             [
              0.5555555555555556,
              "#d8576b"
             ],
             [
              0.6666666666666666,
              "#ed7953"
             ],
             [
              0.7777777777777778,
              "#fb9f3a"
             ],
             [
              0.8888888888888888,
              "#fdca26"
             ],
             [
              1,
              "#f0f921"
             ]
            ],
            "type": "histogram2d"
           }
          ],
          "histogram2dcontour": [
           {
            "colorbar": {
             "outlinewidth": 0,
             "ticks": ""
            },
            "colorscale": [
             [
              0,
              "#0d0887"
             ],
             [
              0.1111111111111111,
              "#46039f"
             ],
             [
              0.2222222222222222,
              "#7201a8"
             ],
             [
              0.3333333333333333,
              "#9c179e"
             ],
             [
              0.4444444444444444,
              "#bd3786"
             ],
             [
              0.5555555555555556,
              "#d8576b"
             ],
             [
              0.6666666666666666,
              "#ed7953"
             ],
             [
              0.7777777777777778,
              "#fb9f3a"
             ],
             [
              0.8888888888888888,
              "#fdca26"
             ],
             [
              1,
              "#f0f921"
             ]
            ],
            "type": "histogram2dcontour"
           }
          ],
          "mesh3d": [
           {
            "colorbar": {
             "outlinewidth": 0,
             "ticks": ""
            },
            "type": "mesh3d"
           }
          ],
          "parcoords": [
           {
            "line": {
             "colorbar": {
              "outlinewidth": 0,
              "ticks": ""
             }
            },
            "type": "parcoords"
           }
          ],
          "pie": [
           {
            "automargin": true,
            "type": "pie"
           }
          ],
          "scatter": [
           {
            "fillpattern": {
             "fillmode": "overlay",
             "size": 10,
             "solidity": 0.2
            },
            "type": "scatter"
           }
          ],
          "scatter3d": [
           {
            "line": {
             "colorbar": {
              "outlinewidth": 0,
              "ticks": ""
             }
            },
            "marker": {
             "colorbar": {
              "outlinewidth": 0,
              "ticks": ""
             }
            },
            "type": "scatter3d"
           }
          ],
          "scattercarpet": [
           {
            "marker": {
             "colorbar": {
              "outlinewidth": 0,
              "ticks": ""
             }
            },
            "type": "scattercarpet"
           }
          ],
          "scattergeo": [
           {
            "marker": {
             "colorbar": {
              "outlinewidth": 0,
              "ticks": ""
             }
            },
            "type": "scattergeo"
           }
          ],
          "scattergl": [
           {
            "marker": {
             "colorbar": {
              "outlinewidth": 0,
              "ticks": ""
             }
            },
            "type": "scattergl"
           }
          ],
          "scattermapbox": [
           {
            "marker": {
             "colorbar": {
              "outlinewidth": 0,
              "ticks": ""
             }
            },
            "type": "scattermapbox"
           }
          ],
          "scatterpolar": [
           {
            "marker": {
             "colorbar": {
              "outlinewidth": 0,
              "ticks": ""
             }
            },
            "type": "scatterpolar"
           }
          ],
          "scatterpolargl": [
           {
            "marker": {
             "colorbar": {
              "outlinewidth": 0,
              "ticks": ""
             }
            },
            "type": "scatterpolargl"
           }
          ],
          "scatterternary": [
           {
            "marker": {
             "colorbar": {
              "outlinewidth": 0,
              "ticks": ""
             }
            },
            "type": "scatterternary"
           }
          ],
          "surface": [
           {
            "colorbar": {
             "outlinewidth": 0,
             "ticks": ""
            },
            "colorscale": [
             [
              0,
              "#0d0887"
             ],
             [
              0.1111111111111111,
              "#46039f"
             ],
             [
              0.2222222222222222,
              "#7201a8"
             ],
             [
              0.3333333333333333,
              "#9c179e"
             ],
             [
              0.4444444444444444,
              "#bd3786"
             ],
             [
              0.5555555555555556,
              "#d8576b"
             ],
             [
              0.6666666666666666,
              "#ed7953"
             ],
             [
              0.7777777777777778,
              "#fb9f3a"
             ],
             [
              0.8888888888888888,
              "#fdca26"
             ],
             [
              1,
              "#f0f921"
             ]
            ],
            "type": "surface"
           }
          ],
          "table": [
           {
            "cells": {
             "fill": {
              "color": "#EBF0F8"
             },
             "line": {
              "color": "white"
             }
            },
            "header": {
             "fill": {
              "color": "#C8D4E3"
             },
             "line": {
              "color": "white"
             }
            },
            "type": "table"
           }
          ]
         },
         "layout": {
          "annotationdefaults": {
           "arrowcolor": "#2a3f5f",
           "arrowhead": 0,
           "arrowwidth": 1
          },
          "autotypenumbers": "strict",
          "coloraxis": {
           "colorbar": {
            "outlinewidth": 0,
            "ticks": ""
           }
          },
          "colorscale": {
           "diverging": [
            [
             0,
             "#8e0152"
            ],
            [
             0.1,
             "#c51b7d"
            ],
            [
             0.2,
             "#de77ae"
            ],
            [
             0.3,
             "#f1b6da"
            ],
            [
             0.4,
             "#fde0ef"
            ],
            [
             0.5,
             "#f7f7f7"
            ],
            [
             0.6,
             "#e6f5d0"
            ],
            [
             0.7,
             "#b8e186"
            ],
            [
             0.8,
             "#7fbc41"
            ],
            [
             0.9,
             "#4d9221"
            ],
            [
             1,
             "#276419"
            ]
           ],
           "sequential": [
            [
             0,
             "#0d0887"
            ],
            [
             0.1111111111111111,
             "#46039f"
            ],
            [
             0.2222222222222222,
             "#7201a8"
            ],
            [
             0.3333333333333333,
             "#9c179e"
            ],
            [
             0.4444444444444444,
             "#bd3786"
            ],
            [
             0.5555555555555556,
             "#d8576b"
            ],
            [
             0.6666666666666666,
             "#ed7953"
            ],
            [
             0.7777777777777778,
             "#fb9f3a"
            ],
            [
             0.8888888888888888,
             "#fdca26"
            ],
            [
             1,
             "#f0f921"
            ]
           ],
           "sequentialminus": [
            [
             0,
             "#0d0887"
            ],
            [
             0.1111111111111111,
             "#46039f"
            ],
            [
             0.2222222222222222,
             "#7201a8"
            ],
            [
             0.3333333333333333,
             "#9c179e"
            ],
            [
             0.4444444444444444,
             "#bd3786"
            ],
            [
             0.5555555555555556,
             "#d8576b"
            ],
            [
             0.6666666666666666,
             "#ed7953"
            ],
            [
             0.7777777777777778,
             "#fb9f3a"
            ],
            [
             0.8888888888888888,
             "#fdca26"
            ],
            [
             1,
             "#f0f921"
            ]
           ]
          },
          "colorway": [
           "#636efa",
           "#EF553B",
           "#00cc96",
           "#ab63fa",
           "#FFA15A",
           "#19d3f3",
           "#FF6692",
           "#B6E880",
           "#FF97FF",
           "#FECB52"
          ],
          "font": {
           "color": "#2a3f5f"
          },
          "geo": {
           "bgcolor": "white",
           "lakecolor": "white",
           "landcolor": "#E5ECF6",
           "showlakes": true,
           "showland": true,
           "subunitcolor": "white"
          },
          "hoverlabel": {
           "align": "left"
          },
          "hovermode": "closest",
          "mapbox": {
           "style": "light"
          },
          "paper_bgcolor": "white",
          "plot_bgcolor": "#E5ECF6",
          "polar": {
           "angularaxis": {
            "gridcolor": "white",
            "linecolor": "white",
            "ticks": ""
           },
           "bgcolor": "#E5ECF6",
           "radialaxis": {
            "gridcolor": "white",
            "linecolor": "white",
            "ticks": ""
           }
          },
          "scene": {
           "xaxis": {
            "backgroundcolor": "#E5ECF6",
            "gridcolor": "white",
            "gridwidth": 2,
            "linecolor": "white",
            "showbackground": true,
            "ticks": "",
            "zerolinecolor": "white"
           },
           "yaxis": {
            "backgroundcolor": "#E5ECF6",
            "gridcolor": "white",
            "gridwidth": 2,
            "linecolor": "white",
            "showbackground": true,
            "ticks": "",
            "zerolinecolor": "white"
           },
           "zaxis": {
            "backgroundcolor": "#E5ECF6",
            "gridcolor": "white",
            "gridwidth": 2,
            "linecolor": "white",
            "showbackground": true,
            "ticks": "",
            "zerolinecolor": "white"
           }
          },
          "shapedefaults": {
           "line": {
            "color": "#2a3f5f"
           }
          },
          "ternary": {
           "aaxis": {
            "gridcolor": "white",
            "linecolor": "white",
            "ticks": ""
           },
           "baxis": {
            "gridcolor": "white",
            "linecolor": "white",
            "ticks": ""
           },
           "bgcolor": "#E5ECF6",
           "caxis": {
            "gridcolor": "white",
            "linecolor": "white",
            "ticks": ""
           }
          },
          "title": {
           "x": 0.05
          },
          "xaxis": {
           "automargin": true,
           "gridcolor": "white",
           "linecolor": "white",
           "ticks": "",
           "title": {
            "standoff": 15
           },
           "zerolinecolor": "white",
           "zerolinewidth": 2
          },
          "yaxis": {
           "automargin": true,
           "gridcolor": "white",
           "linecolor": "white",
           "ticks": "",
           "title": {
            "standoff": 15
           },
           "zerolinecolor": "white",
           "zerolinewidth": 2
          }
         }
        },
        "title": {
         "text": "Search trajectory"
        },
        "xaxis": {
         "anchor": "y",
         "domain": [
          0,
          1
         ],
         "title": {
          "text": "iteration"
         }
        },
        "yaxis": {
         "anchor": "x",
         "domain": [
          0,
          1
         ],
         "title": {
          "text": "best"
         }
        }
       }
      },
      "image/png": "[encoded data removed]",
      "text/html": [
       "<div>                            <div id=\"1394e0cb-24c2-4e18-8beb-171d6b939bf8\" class=\"plotly-graph-div\" style=\"height:525px; width:100%;\"></div>            <script type=\"text/javascript\">                require([\"plotly\"], function(Plotly) {                    window.PLOTLYENV=window.PLOTLYENV || {};                                    if (document.getElementById(\"1394e0cb-24c2-4e18-8beb-171d6b939bf8\")) {                    Plotly.newPlot(                        \"1394e0cb-24c2-4e18-8beb-171d6b939bf8\",                        [{\"hovertemplate\":\"iteration=%{x}\\u003cbr\\u003ebest=%{y}\\u003cextra\\u003e\\u003c\\u002fextra\\u003e\",\"legendgroup\":\"\",\"line\":{\"color\":\"#636efa\",\"dash\":\"solid\"},\"marker\":{\"symbol\":\"circle\"},\"mode\":\"lines\",\"name\":\"\",\"orientation\":\"v\",\"showlegend\":false,\"x\":[0,1,2,3,4,5,6,7,8,9,10,11,12,13,14,15,16,17,18,19],\"xaxis\":\"x\",\"y\":[6669.990767630941,6413.941755672014,6259.420952557865,4595.8120053160765,5753.353233967285,5918.7238394656815,6457.41808838857,6400.364783211413,5511.22485263833,5773.891602193773,4240.315156590371,6409.285830877716,4320.539979829737,4881.21588977801,6979.690659941872,4629.764824705804,5019.753709438184,3882.854565688344,6141.760673388986,6863.032155630123],\"yaxis\":\"y\",\"type\":\"scatter\"}],                        {\"template\":{\"data\":{\"histogram2dcontour\":[{\"type\":\"histogram2dcontour\",\"colorbar\":{\"outlinewidth\":0,\"ticks\":\"\"},\"colorscale\":[[0.0,\"#0d0887\"],[0.1111111111111111,\"#46039f\"],[0.2222222222222222,\"#7201a8\"],[0.3333333333333333,\"#9c179e\"],[0.4444444444444444,\"#bd3786\"],[0.5555555555555556,\"#d8576b\"],[0.6666666666666666,\"#ed7953\"],[0.7777777777777778,\"#fb9f3a\"],[0.8888888888888888,\"#fdca26\"],[1.0,\"#f0f921\"]]}],\"choropleth\":[{\"type\":\"choropleth\",\"colorbar\":{\"outlinewidth\":0,\"ticks\":\"\"}}],\"histogram2d\":[{\"type\":\"histogram2d\",\"colorbar\":{\"outlinewidth\":0,\"ticks\":\"\"},\"colorscale\":[[0.0,\"#0d0887\"],[0.1111111111111111,\"#46039f\"],[0.2222222222222222,\"#7201a8\"],[0.3333333333333333,\"#9c179e\"],[0.4444444444444444,\"#bd3786\"],[0.5555555555555556,\"#d8576b\"],[0.6666666666666666,\"#ed7953\"],[0.7777777777777778,\"#fb9f3a\"],[0.8888888888888888,\"#fdca26\"],[1.0,\"#f0f921\"]]}],\"heatmap\":[{\"type\":\"heatmap\",\"colorbar\":{\"outlinewidth\":0,\"ticks\":\"\"},\"colorscale\":[[0.0,\"#0d0887\"],[0.1111111111111111,\"#46039f\"],[0.2222222222222222,\"#7201a8\"],[0.3333333333333333,\"#9c179e\"],[0.4444444444444444,\"#bd3786\"],[0.5555555555555556,\"#d8576b\"],[0.6666666666666666,\"#ed7953\"],[0.7777777777777778,\"#fb9f3a\"],[0.8888888888888888,\"#fdca26\"],[1.0,\"#f0f921\"]]}],\"heatmapgl\":[{\"type\":\"heatmapgl\",\"colorbar\":{\"outlinewidth\":0,\"ticks\":\"\"},\"colorscale\":[[0.0,\"#0d0887\"],[0.1111111111111111,\"#46039f\"],[0.2222222222222222,\"#7201a8\"],[0.3333333333333333,\"#9c179e\"],[0.4444444444444444,\"#bd3786\"],[0.5555555555555556,\"#d8576b\"],[0.6666666666666666,\"#ed7953\"],[0.7777777777777778,\"#fb9f3a\"],[0.8888888888888888,\"#fdca26\"],[1.0,\"#f0f921\"]]}],\"contourcarpet\":[{\"type\":\"contourcarpet\",\"colorbar\":{\"outlinewidth\":0,\"ticks\":\"\"}}],\"contour\":[{\"type\":\"contour\",\"colorbar\":{\"outlinewidth\":0,\"ticks\":\"\"},\"colorscale\":[[0.0,\"#0d0887\"],[0.1111111111111111,\"#46039f\"],[0.2222222222222222,\"#7201a8\"],[0.3333333333333333,\"#9c179e\"],[0.4444444444444444,\"#bd3786\"],[0.5555555555555556,\"#d8576b\"],[0.6666666666666666,\"#ed7953\"],[0.7777777777777778,\"#fb9f3a\"],[0.8888888888888888,\"#fdca26\"],[1.0,\"#f0f921\"]]}],\"surface\":[{\"type\":\"surface\",\"colorbar\":{\"outlinewidth\":0,\"ticks\":\"\"},\"colorscale\":[[0.0,\"#0d0887\"],[0.1111111111111111,\"#46039f\"],[0.2222222222222222,\"#7201a8\"],[0.3333333333333333,\"#9c179e\"],[0.4444444444444444,\"#bd3786\"],[0.5555555555555556,\"#d8576b\"],[0.6666666666666666,\"#ed7953\"],[0.7777777777777778,\"#fb9f3a\"],[0.8888888888888888,\"#fdca26\"],[1.0,\"#f0f921\"]]}],\"mesh3d\":[{\"type\":\"mesh3d\",\"colorbar\":{\"outlinewidth\":0,\"ticks\":\"\"}}],\"scatter\":[{\"fillpattern\":{\"fillmode\":\"overlay\",\"size\":10,\"solidity\":0.2},\"type\":\"scatter\"}],\"parcoords\":[{\"type\":\"parcoords\",\"line\":{\"colorbar\":{\"outlinewidth\":0,\"ticks\":\"\"}}}],\"scatterpolargl\":[{\"type\":\"scatterpolargl\",\"marker\":{\"colorbar\":{\"outlinewidth\":0,\"ticks\":\"\"}}}],\"bar\":[{\"error_x\":{\"color\":\"#2a3f5f\"},\"error_y\":{\"color\":\"#2a3f5f\"},\"marker\":{\"line\":{\"color\":\"#E5ECF6\",\"width\":0.5},\"pattern\":{\"fillmode\":\"overlay\",\"size\":10,\"solidity\":0.2}},\"type\":\"bar\"}],\"scattergeo\":[{\"type\":\"scattergeo\",\"marker\":{\"colorbar\":{\"outlinewidth\":0,\"ticks\":\"\"}}}],\"scatterpolar\":[{\"type\":\"scatterpolar\",\"marker\":{\"colorbar\":{\"outlinewidth\":0,\"ticks\":\"\"}}}],\"histogram\":[{\"marker\":{\"pattern\":{\"fillmode\":\"overlay\",\"size\":10,\"solidity\":0.2}},\"type\":\"histogram\"}],\"scattergl\":[{\"type\":\"scattergl\",\"marker\":{\"colorbar\":{\"outlinewidth\":0,\"ticks\":\"\"}}}],\"scatter3d\":[{\"type\":\"scatter3d\",\"line\":{\"colorbar\":{\"outlinewidth\":0,\"ticks\":\"\"}},\"marker\":{\"colorbar\":{\"outlinewidth\":0,\"ticks\":\"\"}}}],\"scattermapbox\":[{\"type\":\"scattermapbox\",\"marker\":{\"colorbar\":{\"outlinewidth\":0,\"ticks\":\"\"}}}],\"scatterternary\":[{\"type\":\"scatterternary\",\"marker\":{\"colorbar\":{\"outlinewidth\":0,\"ticks\":\"\"}}}],\"scattercarpet\":[{\"type\":\"scattercarpet\",\"marker\":{\"colorbar\":{\"outlinewidth\":0,\"ticks\":\"\"}}}],\"carpet\":[{\"aaxis\":{\"endlinecolor\":\"#2a3f5f\",\"gridcolor\":\"white\",\"linecolor\":\"white\",\"minorgridcolor\":\"white\",\"startlinecolor\":\"#2a3f5f\"},\"baxis\":{\"endlinecolor\":\"#2a3f5f\",\"gridcolor\":\"white\",\"linecolor\":\"white\",\"minorgridcolor\":\"white\",\"startlinecolor\":\"#2a3f5f\"},\"type\":\"carpet\"}],\"table\":[{\"cells\":{\"fill\":{\"color\":\"#EBF0F8\"},\"line\":{\"color\":\"white\"}},\"header\":{\"fill\":{\"color\":\"#C8D4E3\"},\"line\":{\"color\":\"white\"}},\"type\":\"table\"}],\"barpolar\":[{\"marker\":{\"line\":{\"color\":\"#E5ECF6\",\"width\":0.5},\"pattern\":{\"fillmode\":\"overlay\",\"size\":10,\"solidity\":0.2}},\"type\":\"barpolar\"}],\"pie\":[{\"automargin\":true,\"type\":\"pie\"}]},\"layout\":{\"autotypenumbers\":\"strict\",\"colorway\":[\"#636efa\",\"#EF553B\",\"#00cc96\",\"#ab63fa\",\"#FFA15A\",\"#19d3f3\",\"#FF6692\",\"#B6E880\",\"#FF97FF\",\"#FECB52\"],\"font\":{\"color\":\"#2a3f5f\"},\"hovermode\":\"closest\",\"hoverlabel\":{\"align\":\"left\"},\"paper_bgcolor\":\"white\",\"plot_bgcolor\":\"#E5ECF6\",\"polar\":{\"bgcolor\":\"#E5ECF6\",\"angularaxis\":{\"gridcolor\":\"white\",\"linecolor\":\"white\",\"ticks\":\"\"},\"radialaxis\":{\"gridcolor\":\"white\",\"linecolor\":\"white\",\"ticks\":\"\"}},\"ternary\":{\"bgcolor\":\"#E5ECF6\",\"aaxis\":{\"gridcolor\":\"white\",\"linecolor\":\"white\",\"ticks\":\"\"},\"baxis\":{\"gridcolor\":\"white\",\"linecolor\":\"white\",\"ticks\":\"\"},\"caxis\":{\"gridcolor\":\"white\",\"linecolor\":\"white\",\"ticks\":\"\"}},\"coloraxis\":{\"colorbar\":{\"outlinewidth\":0,\"ticks\":\"\"}},\"colorscale\":{\"sequential\":[[0.0,\"#0d0887\"],[0.1111111111111111,\"#46039f\"],[0.2222222222222222,\"#7201a8\"],[0.3333333333333333,\"#9c179e\"],[0.4444444444444444,\"#bd3786\"],[0.5555555555555556,\"#d8576b\"],[0.6666666666666666,\"#ed7953\"],[0.7777777777777778,\"#fb9f3a\"],[0.8888888888888888,\"#fdca26\"],[1.0,\"#f0f921\"]],\"sequentialminus\":[[0.0,\"#0d0887\"],[0.1111111111111111,\"#46039f\"],[0.2222222222222222,\"#7201a8\"],[0.3333333333333333,\"#9c179e\"],[0.4444444444444444,\"#bd3786\"],[0.5555555555555556,\"#d8576b\"],[0.6666666666666666,\"#ed7953\"],[0.7777777777777778,\"#fb9f3a\"],[0.8888888888888888,\"#fdca26\"],[1.0,\"#f0f921\"]],\"diverging\":[[0,\"#8e0152\"],[0.1,\"#c51b7d\"],[0.2,\"#de77ae\"],[0.3,\"#f1b6da\"],[0.4,\"#fde0ef\"],[0.5,\"#f7f7f7\"],[0.6,\"#e6f5d0\"],[0.7,\"#b8e186\"],[0.8,\"#7fbc41\"],[0.9,\"#4d9221\"],[1,\"#276419\"]]},\"xaxis\":{\"gridcolor\":\"white\",\"linecolor\":\"white\",\"ticks\":\"\",\"title\":{\"standoff\":15},\"zerolinecolor\":\"white\",\"automargin\":true,\"zerolinewidth\":2},\"yaxis\":{\"gridcolor\":\"white\",\"linecolor\":\"white\",\"ticks\":\"\",\"title\":{\"standoff\":15},\"zerolinecolor\":\"white\",\"automargin\":true,\"zerolinewidth\":2},\"scene\":{\"xaxis\":{\"backgroundcolor\":\"#E5ECF6\",\"gridcolor\":\"white\",\"linecolor\":\"white\",\"showbackground\":true,\"ticks\":\"\",\"zerolinecolor\":\"white\",\"gridwidth\":2},\"yaxis\":{\"backgroundcolor\":\"#E5ECF6\",\"gridcolor\":\"white\",\"linecolor\":\"white\",\"showbackground\":true,\"ticks\":\"\",\"zerolinecolor\":\"white\",\"gridwidth\":2},\"zaxis\":{\"backgroundcolor\":\"#E5ECF6\",\"gridcolor\":\"white\",\"linecolor\":\"white\",\"showbackground\":true,\"ticks\":\"\",\"zerolinecolor\":\"white\",\"gridwidth\":2}},\"shapedefaults\":{\"line\":{\"color\":\"#2a3f5f\"}},\"annotationdefaults\":{\"arrowcolor\":\"#2a3f5f\",\"arrowhead\":0,\"arrowwidth\":1},\"geo\":{\"bgcolor\":\"white\",\"landcolor\":\"#E5ECF6\",\"subunitcolor\":\"white\",\"showland\":true,\"showlakes\":true,\"lakecolor\":\"white\"},\"title\":{\"x\":0.05},\"mapbox\":{\"style\":\"light\"}}},\"xaxis\":{\"anchor\":\"y\",\"domain\":[0.0,1.0],\"title\":{\"text\":\"iteration\"}},\"yaxis\":{\"anchor\":\"x\",\"domain\":[0.0,1.0],\"title\":{\"text\":\"best\"}},\"legend\":{\"tracegroupgap\":0},\"title\":{\"text\":\"Search trajectory\"}},                        {\"responsive\": true}                    ).then(function(){\n",
       "                            \n",
       "var gd = document.getElementById('1394e0cb-24c2-4e18-8beb-171d6b939bf8');\n",
       "var x = new MutationObserver(function (mutations, observer) {{\n",
       "        var display = window.getComputedStyle(gd).display;\n",
       "        if (!display || display === 'none') {{\n",
       "            console.log([gd, 'removed!']);\n",
       "            Plotly.purge(gd);\n",
       "            observer.disconnect();\n",
       "        }}\n",
       "}});\n",
       "\n",
       "// Listen for the removal of the full notebook cells\n",
       "var notebookContainer = gd.closest('#notebook-container');\n",
       "if (notebookContainer) {{\n",
       "    x.observe(notebookContainer, {childList: true});\n",
       "}}\n",
       "\n",
       "// Listen for the clearing of the current output cell\n",
       "var outputEl = gd.closest('.output');\n",
       "if (outputEl) {{\n",
       "    x.observe(outputEl, {childList: true});\n",
       "}}\n",
       "\n",
       "                        })                };                });            </script>        </div>"
      ]
     },
     "metadata": {},
     "output_type": "display_data"
    }
   ],
   "source": [
    "import pandas as pd\n",
    "import plotly.express as px\n",
    "\n",
    "\n",
    "def plot_trace(trace):\n",
    "  df = pd.DataFrame(trace, columns=['iteration', 'best'])\n",
    "  fig = px.line(df, x='iteration', y='best', title='Search trajectory')\n",
    "\n",
    "  return fig\n",
    "\n",
    "plot_trace(trace)"
   ]
  },
  {
   "cell_type": "markdown",
   "metadata": {},
   "source": [
    "## <font color='056938'> **Excercise** </font>\n",
    "\n",
    " - Explore different configurations of the FANTS metaheuristic (number of iterations and explotation parameter) for another test instace \n",
    " - Compare the results with those of a randomized **Nearest Neighboor Heuristic**\n",
    "\n",
    "\n"
   ]
  },
  {
   "cell_type": "code",
   "execution_count": 23,
   "metadata": {},
   "outputs": [
    {
     "data": {
      "text/plain": [
       "[4, 9, 8, 7, 0, 5, 2, 6, 1, 3]"
      ]
     },
     "execution_count": 23,
     "metadata": {},
     "output_type": "execute_result"
    }
   ],
   "source": [
    "best_sol\n",
    "\n"
   ]
  },
  {
   "cell_type": "code",
   "execution_count": 24,
   "metadata": {},
   "outputs": [
    {
     "name": "stdout",
     "output_type": "stream",
     "text": [
      "Costo 3882.854565688344\n"
     ]
    }
   ],
   "source": [
    "print(\"Costo\" ,best_cost)\n"
   ]
  },
  {
   "cell_type": "code",
   "execution_count": 20,
   "metadata": {},
   "outputs": [
    {
     "data": {
      "text/plain": [
       "[[0, 0.5, 0.5, 0.5, 0.5, 0.5, 0.5, 0.5, 0.5, 0.5],\n",
       " [0.5, 0, 0.5, 0.5, 0.5, 0.5, 0.5, 0.5, 0.5, 0.5],\n",
       " [0.5, 0.5, 0, 0.5, 0.5, 0.5, 0.5, 0.5, 0.5, 0.5],\n",
       " [0.5, 0.5, 0.5, 0, 0.5, 0.5, 0.5, 0.5, 0.5, 0.5],\n",
       " [0.5, 0.5, 0.5, 0.5, 0, 0.5, 0.5, 0.5, 0.5, 0.5],\n",
       " [0.5, 0.5, 0.5, 0.5, 0.5, 0, 0.5, 0.5, 0.5, 0.5],\n",
       " [0.5, 0.5, 0.5, 0.5, 0.5, 0.5, 0, 0.5, 0.5, 0.5],\n",
       " [0.5, 0.5, 0.5, 0.5, 0.5, 0.5, 0.5, 0, 0.5, 0.5],\n",
       " [0.5, 0.5, 0.5, 0.5, 0.5, 0.5, 0.5, 0.5, 0, 0.5],\n",
       " [0.5, 0.5, 0.5, 0.5, 0.5, 0.5, 0.5, 0.5, 0.5, 0]]"
      ]
     },
     "execution_count": 20,
     "metadata": {},
     "output_type": "execute_result"
    }
   ],
   "source": [
    "trail\n"
   ]
  },
  {
   "cell_type": "code",
   "execution_count": null,
   "metadata": {},
   "outputs": [],
   "source": []
  }
 ],
 "metadata": {
  "colab": {
   "private_outputs": true,
   "provenance": []
  },
  "kernelspec": {
   "display_name": "Python [conda env:base] *",
   "language": "python",
   "name": "conda-base-py"
  },
  "language_info": {
   "codemirror_mode": {
    "name": "ipython",
    "version": 3
   },
   "file_extension": ".py",
   "mimetype": "text/x-python",
   "name": "python",
   "nbconvert_exporter": "python",
   "pygments_lexer": "ipython3",
   "version": "3.13.5"
  }
 },
 "nbformat": 4,
 "nbformat_minor": 4
}
